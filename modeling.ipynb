{
 "cells": [
  {
   "cell_type": "markdown",
   "metadata": {},
   "source": [
    "### Final Project Submission\n",
    "\n",
    " <li> Student Names: Calvine Dasilver\n",
    " <li> Student Pace: Full - Time\n",
    " <li> Scheduled Review Date/Time: \n",
    " <li> Instructor's: Nikita Njoroge"
   ]
  },
  {
   "cell_type": "markdown",
   "metadata": {},
   "source": [
    "## Utilizing Machine Learning to Assess Water Well Performance in Tanzania\n",
    "\n",
    "## **Project Overview**"
   ]
  },
  {
   "cell_type": "markdown",
   "metadata": {},
   "source": [
    " ### <li>**Business Understanding**\n",
    "\n",
    " Millions in Tanzania face a daily struggle for clean water, forced to walk long distances for water of questionable quality. This water scarcity contributes to a cycle of illness, high infant mortality, and economic stagnation. Uneven water distribution due to Tanzania's diverse climate and geology, coupled with rising demand from agriculture, domestic needs, and other sectors, further complicates the issue. Water wells have been a lifeline for rural communities, but their effectiveness can vary. This project combines machine learning and data visualization to pinpoint potential causes of well failure, predict the success of new wells, and ensure resources are directed to areas with the greatest need.\n",
    "\n",
    "##### **Challenges facing water access in Tanzania**:\n",
    "\n",
    "* **Limited Infrastructure**: Tanzania lacks sufficient water infrastructure, particularly in rural areas. This includes a shortage of wells, pipelines, and proper sanitation facilities, leading to reliance on potentially contaminated sources.\n",
    "* **Uneven Distribution**:  Tanzania's geography and climate create uneven water distribution. Some regions experience frequent droughts, while others have limited groundwater reserves. This disparity leaves many communities struggling despite national averages.\n",
    "* **Water Quality**: Contaminated water sources are a significant health risk. Lack of proper sanitation and treatment facilities contribute to the spread of waterborne diseases, further impacting public health outcomes.\n",
    "* **Climate Change**:  The increasing frequency and intensity of droughts due to climate change further exacerbate water scarcity. Erratic weather patterns disrupt traditional rainfall patterns, impacting both surface and groundwater availability.\n",
    "* **Population Growth**: Tanzania's growing population puts increasing pressure on existing water resources. Rising demand for domestic and agricultural water use threatens to outpace sustainable management practices.\n",
    "* **Funding and Management**: Insufficient funding for infrastructure development, maintenance, and water management programs limits progress\n",
    "\n",
    "#### **Proposed Solution**\n",
    "\n",
    "1. Build More & Smarter: Construct new wells and water systems (pumps, rainwater harvesting) in areas with greatest need, guided by data and community input.\n",
    "\n",
    "2. Monitor & Maintain: Track water quality with sensors and mobile tech, while training locals on well maintenance and responsible water use.\n",
    "\n",
    "3. Empower & Collaborate: Partner with local communities, NGOs, and the private sector to share knowledge, manage resources efficiently, and secure funding.\n",
    "\n",
    "4. Sustainable Financing: Explore innovative funding models like microfinance, user fees, and public-private partnerships for long-term project viability.\n",
    "\n",
    "#### **Conclusion**\n",
    "\n",
    "This analysis pinpointed geographic location, construction details, environmental factors, and maintenance practices as crucial influences on well functionality.\n",
    "\n",
    "#### **Problem Statement**\n",
    "\n",
    "In rural Tanzania, there's not enough infrastructure for safe drinking water, making it hard for people to access. While the government and NGOs work together to build wells, there's a problem with making sure they keep working in the long run. As the wells start to break down, it slows down the efforts to make sure everyone has enough clean water.\n",
    "\n",
    "#### **Objectives**\n",
    "###### *main*\n",
    "Implement a machine learning model to assess the operational status of water wells in Tanzania\n",
    "###### *specific*\n",
    "*  Data Preprocessing and Analysis\n",
    "*  Model Development and Training\n",
    "*  Insights Generation and Recommendation Development"
   ]
  },
  {
   "cell_type": "markdown",
   "metadata": {},
   "source": [
    "### <li> **Data Understanding**\n",
    "**Data Sources**\n",
    "\n",
    "Data provided by Taarifa and the Tanzanian Ministry of Water is organized into three separate CSV files:\n",
    " https://www.drivendata.org/competitions/7/pump-it-up-data-mining-the-water-table/data/\n",
    "\n",
    "1. Test Set Values: This file contains the independent variables (features) for which we need the model to predict the water well condition.\n",
    "2. Training Set Labels: This file contains the dependent variable (status_group) for each row in the Training Set Values file. This variable represents the actual condition of the well (e.g., functional, non-functional, needs repair).\n",
    "3. Training Set Values: This file contains the independent variables (features) used to train the machine learning model. These features will be used by the model to learn how to predict the condition of the wells in the Test Set Values file."
   ]
  },
  {
   "cell_type": "markdown",
   "metadata": {},
   "source": [
    "**To facilitate understanding of the data, a table outlining the column names and descriptions is provided below**:\n",
    "* amount_tsh - Total static head (amount water available to waterpoint)\n",
    "* date_recorded - The date the row was entered\n",
    "*  funder - Who funded the well\n",
    "*  gps_height - Altitude of the well\n",
    "*  installer - Organization that installed the well\n",
    "*  longitude - GPS coordinate\n",
    "*  latitude - GPS coordinate\n",
    "*  wpt_name - Name of the waterpoint if there is one\n",
    "*  num_private -\n",
    "*  basin - Geographic water basin\n",
    "*  subvillage - Geographic location\n",
    "*  region - Geographic location\n",
    "*  region_code - Geographic location (coded)\n",
    "*  district_code - Geographic location (coded)\n",
    "*  lga - Geographic location\n",
    "*  ward - Geographic location\n",
    "*  population - Population around the well\n",
    "*  public_meeting - True/False\n",
    "*  recorded_by - Group entering this row of data\n",
    "* scheme_management - Who operates the waterpoint\n",
    "* scheme_name - Who operates the waterpoint\n",
    "* permit - If the waterpoint is permitted\n",
    "* construction_year - Year the waterpoint was constructed\n",
    "* extraction_type - The kind of extraction the waterpoint uses\n",
    "* extraction_type_group - The kind of extraction the waterpoint uses\n",
    "* extraction_type_class - The kind of extraction the waterpoint uses\n",
    "* management - How the waterpoint is managed\n",
    "* management_group - How the waterpoint is managed\n",
    "* payment - What the water costs\n",
    "* payment_type - What the water costs\n",
    "* water_quality - The quality of the water\n",
    "* quality_group - The quality of the water\n",
    "* quantity - The quantity of water\n",
    "* quantity_group - The quantity of water\n",
    "* source - The source of the water\n",
    "* source_type - The source of the water\n",
    "* source_class - The source of the water\n",
    "* waterpoint_type - The kind of waterpoint\n",
    "* waterpoint_type_group - The kind of waterpoint\n"
   ]
  },
  {
   "cell_type": "markdown",
   "metadata": {},
   "source": [
    "### Importing relevant libraries"
   ]
  },
  {
   "cell_type": "code",
   "execution_count": 3,
   "metadata": {},
   "outputs": [],
   "source": [
    "import pandas as pd\n",
    "import numpy as np\n",
    "import matplotlib.pyplot as plt\n",
    "%matplotlib inline\n",
    "import seaborn as sns\n",
    "import warnings\n",
    "warnings.filterwarnings('ignore')\n",
    "from sklearn.model_selection import GridSearchCV\n",
    "from sklearn.metrics import mean_squared_error\n",
    "from sklearn.model_selection import train_test_split\n",
    "from sklearn.model_selection import cross_val_score\n",
    "from sklearn.metrics import accuracy_score, confusion_matrix, classification_report,precision_score, recall_score\n",
    "from sklearn.preprocessing import StandardScaler\n",
    "from sklearn.ensemble import RandomForestRegressor\n",
    "from sklearn.ensemble import GradientBoostingClassifier\n",
    "from sklearn.pipeline import Pipeline\n",
    "from sklearn.impute import SimpleImputer\n",
    "from sklearn.tree import DecisionTreeClassifier\n",
    "from sklearn.linear_model import LogisticRegression\n",
    "from sklearn.ensemble import RandomForestClassifier"
   ]
  },
  {
   "cell_type": "markdown",
   "metadata": {},
   "source": [
    "First, I will define a fuction that loads the Datasets and check for info and data types.\n"
   ]
  },
  {
   "cell_type": "code",
   "execution_count": 5,
   "metadata": {},
   "outputs": [
    {
     "name": "stdout",
     "output_type": "stream",
     "text": [
      "Information about the data:\n",
      "F\n",
      "\n",
      "Data types of each column:\n",
      "i\n"
     ]
    }
   ],
   "source": [
    "#create a function that loads the data and check info and describe\n",
    "\n",
    "import pandas as pd\n",
    "\n",
    "def load_data_and_get_info(file_path):\n",
    "    \"\"\"\n",
    "    Load data from a file and retrieve information along with data types.\n",
    "    \n",
    "    Parameters:\n",
    "    file_path (str): The file path of the dataset.\n",
    "    \n",
    "    Returns:\n",
    "    tuple: A tuple containing data information and data types.\n",
    "    \"\"\"\n",
    "    # Load the data\n",
    "    try:\n",
    "        data = pd.read_csv(file_path)\n",
    "    except FileNotFoundError:\n",
    "        return \"File not found. Please provide a valid file path.\"\n",
    "\n",
    "    # Get information about the data\n",
    "    info = data.info()\n",
    "\n",
    "    # Get data types of each column\n",
    "    data_types = data.dtypes\n",
    "\n",
    "    return info, data_types\n",
    "\n",
    "# Example usage:\n",
    "file_path = \"your_data.csv\"  # Replace with the actual file path\n",
    "result = load_data_and_get_info(file_path)\n",
    "print(\"Information about the data:\")\n",
    "print(result[0])  # Information about the data\n",
    "print(\"\\nData types of each column:\")\n",
    "print(result[1])  # Data types of each column\n"
   ]
  },
  {
   "cell_type": "markdown",
   "metadata": {},
   "source": [
    "#### 1.1 Importing Training Data: We begin by loading the 'Training Set Values' dataset"
   ]
  },
  {
   "cell_type": "code",
   "execution_count": null,
   "metadata": {},
   "outputs": [],
   "source": [
    "file_path = \"Training\"  # Replace with the actual file path\n",
    "result = load_data_and_get_info(file_path)\n",
    "print(\"Information about the data:\")\n",
    "print(result[0])  # Information about the data\n",
    "print(\"\\nData types of each column:\")\n",
    "print(result[1])  # Data types of each column"
   ]
  }
 ],
 "metadata": {
  "kernelspec": {
   "display_name": "learn-env",
   "language": "python",
   "name": "python3"
  },
  "language_info": {
   "codemirror_mode": {
    "name": "ipython",
    "version": 3
   },
   "file_extension": ".py",
   "mimetype": "text/x-python",
   "name": "python",
   "nbconvert_exporter": "python",
   "pygments_lexer": "ipython3",
   "version": "3.8.5"
  }
 },
 "nbformat": 4,
 "nbformat_minor": 2
}
